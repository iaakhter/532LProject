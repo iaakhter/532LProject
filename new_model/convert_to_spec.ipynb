{
 "cells": [
  {
   "cell_type": "code",
   "execution_count": 1,
   "metadata": {
    "collapsed": true
   },
   "outputs": [],
   "source": [
    "import IPython.display as ipd\n",
    "import numpy as np\n",
    "import matplotlib.pyplot as plt\n",
    "import librosa\n",
    "import librosa.display\n",
    "import pylab\n",
    "import utils\n",
    "import os"
   ]
  },
  {
   "cell_type": "code",
   "execution_count": 2,
   "metadata": {},
   "outputs": [
    {
     "name": "stdout",
     "output_type": "stream",
     "text": [
      "('track', 'tags')\n",
      "('album', 'tags')\n",
      "('artist', 'tags')\n",
      "('track', 'genres')\n",
      "('track', 'genres_all')\n"
     ]
    }
   ],
   "source": [
    "# Load metadata and features.\n",
    "tracks = utils.load('data/fma_metadata/tracks.csv')\n",
    "genres = utils.load('data/fma_metadata/genres.csv')\n",
    "\n",
    "rockGenreIds = []\n",
    "hiphopGenreIds = []\n",
    "popGenreIds = []\n",
    "jazzGenreIds = []\n",
    "elecGenreIds = []\n",
    "classicalGenreIds = []\n",
    "for key in tracks['track','genres'].keys():\n",
    "    if len(tracks['track','genres'][key]) >= 1:\n",
    "        if tracks['track','genres'][key][0] == 12:\n",
    "            rockGenreIds.append(key)\n",
    "        if tracks['track','genres'][key][0] == 21:\n",
    "            hiphopGenreIds.append(key)\n",
    "        if tracks['track','genres'][key][0] == 10:\n",
    "            popGenreIds.append(key)\n",
    "        if tracks['track','genres'][key][0] == 4:\n",
    "            jazzGenreIds.append(key)\n",
    "        if tracks['track','genres'][key][0] == 15:\n",
    "            elecGenreIds.append(key)\n",
    "        if tracks['track','genres'][key][0] == 5:\n",
    "            classicalGenreIds.append(key)"
   ]
  },
  {
   "cell_type": "code",
   "execution_count": 3,
   "metadata": {
    "collapsed": true
   },
   "outputs": [],
   "source": [
    "def get_filenames(audioDirectory, ids):\n",
    "    file_list = []\n",
    "    for count, Id in enumerate(ids):\n",
    "        try:\n",
    "            Id = ids[count]\n",
    "            #print count\n",
    "            Id = str(Id)\n",
    "            while(len(Id) < 6):\n",
    "                Id = \"0\" + Id\n",
    "            #print (rockId)\n",
    "            path = os.path.join(audioDirectory, Id[0:3])\n",
    "            files = os.listdir(path)\n",
    "            audioFilename = os.path.join(path, Id + \".mp3\")\n",
    "            if os.path.isfile(audioFilename):\n",
    "                file_list.append(audioFilename)\n",
    "        except:\n",
    "            print count, Id\n",
    "        \n",
    "    return file_list\n",
    "\n",
    "audioDirectory = \"/ubc/cs/research/tracking-raid/candice/project/fma_medium\"\n",
    "rock_song_list = get_filenames(audioDirectory, rockGenreIds)\n",
    "hiphop_song_list = get_filenames(audioDirectory, hiphopGenreIds)\n",
    "elec_song_list = get_filenames(audioDirectory, elecGenreIds)\n",
    "classical_song_list = get_filenames(audioDirectory, classicalGenreIds)"
   ]
  },
  {
   "cell_type": "code",
   "execution_count": null,
   "metadata": {
    "collapsed": true
   },
   "outputs": [],
   "source": [
    "filename = \"/ubc/cs/research/tracking-raid/candice/project/DreamingInMusic/data/small/000/000998.mp3\"\n",
    "print os.path.isfile(filename)"
   ]
  },
  {
   "cell_type": "code",
   "execution_count": 4,
   "metadata": {},
   "outputs": [
    {
     "name": "stdout",
     "output_type": "stream",
     "text": [
      "2406\n",
      "1957\n",
      "2000\n",
      "448\n",
      "6811\n"
     ]
    }
   ],
   "source": [
    "print len(rock_song_list)\n",
    "print len(hiphop_song_list)\n",
    "elec_song_list = elec_song_list[:2000]\n",
    "print len(elec_song_list)\n",
    "print len(classical_song_list)\n",
    "song_list = rock_song_list + hiphop_song_list + elec_song_list + classical_song_list\n",
    "print len(song_list)"
   ]
  },
  {
   "cell_type": "code",
   "execution_count": 5,
   "metadata": {},
   "outputs": [
    {
     "name": "stdout",
     "output_type": "stream",
     "text": [
      "/ubc/cs/research/tracking-raid/candice/project/fma_medium/000/000247.mp3\n",
      "/ubc/cs/research/tracking-raid/candice/project/fma_medium/000/000249.mp3\n",
      "/ubc/cs/research/tracking-raid/candice/project/fma_medium/000/000255.mp3\n",
      "/ubc/cs/research/tracking-raid/candice/project/fma_medium/000/000564.mp3\n",
      "/ubc/cs/research/tracking-raid/candice/project/fma_medium/000/000605.mp3\n",
      "/ubc/cs/research/tracking-raid/candice/project/fma_medium/000/000608.mp3\n",
      "/ubc/cs/research/tracking-raid/candice/project/fma_medium/000/000633.mp3\n",
      "/ubc/cs/research/tracking-raid/candice/project/fma_medium/000/000635.mp3\n",
      "/ubc/cs/research/tracking-raid/candice/project/fma_medium/000/000690.mp3\n",
      "/ubc/cs/research/tracking-raid/candice/project/fma_medium/000/000720.mp3\n"
     ]
    }
   ],
   "source": [
    "for i in range(10):\n",
    "    print song_list[i]"
   ]
  },
  {
   "cell_type": "code",
   "execution_count": null,
   "metadata": {},
   "outputs": [],
   "source": [
    "# Find the min and max of spectrogram in all audio in directory\n",
    "duration = 9.98 # duration of audio\n",
    "\n",
    "minAmp = float(\"inf\")\n",
    "maxAmp = -float(\"inf\")\n",
    "for audioFilename in song_list:\n",
    "    for start_time in [0, 10, 20]:\n",
    "        try:\n",
    "            x, sr = librosa.load(audioFilename, sr=None, mono=True, duration=duration, offset=start_time)\n",
    "        except:\n",
    "            print audioFilename\n",
    "            continue\n",
    "        if len(x) > 0:\n",
    "            #Convert audio to a complex valued spectrogram\n",
    "            spectro = librosa.core.stft(x)\n",
    "\n",
    "            #Separate out amplitude and phase from complex valued spectrogram\n",
    "            mag, phase = librosa.core.magphase(spectro)\n",
    "            #print (\"mag\", mag)\n",
    "            #print (\"phase\",phase)\n",
    "\n",
    "            #Get the decibal version from power spectrogram\n",
    "            #This is the value that should be stored for training\n",
    "            powerToDb = librosa.power_to_db(mag, ref=np.max)\n",
    "            locMin = np.amin(powerToDb)\n",
    "            locMax = np.amax(powerToDb)\n",
    "            #print locMin, locMax\n",
    "            minAmp = min(minAmp, locMin)\n",
    "            maxAmp = max(maxAmp, locMax)\n",
    "            \n",
    "print (\"minAmp\", minAmp)\n",
    "print (\"maxAmp\", maxAmp)"
   ]
  },
  {
   "cell_type": "code",
   "execution_count": 20,
   "metadata": {},
   "outputs": [],
   "source": [
    "import scipy.misc\n",
    "\n",
    "minAmp = -80.0\n",
    "maxAmp = 1.9073486e-06\n",
    "def scaleSpectro(x, new_size):\n",
    "    #print (\"before scaling\", x)\n",
    "    x = (x - minAmp)/(maxAmp - minAmp)\n",
    "    #print (\"after scaling\", x)\n",
    "    y = scipy.misc.imresize(x, new_size, mode='L', interp='nearest')\n",
    "    return y\n",
    "def unscaleSpectro(x, new_size, minAmp, maxAmp):\n",
    "    x = scipy.misc.imresize(x, new_size, mode='L', interp='nearest')\n",
    "    x = x/255.0\n",
    "    x = minAmp + x*(maxAmp - minAmp)\n",
    "    return x\n",
    "def convert_file_to_spectro(audio_filename):\n",
    "    \"\"\"\n",
    "    Simple function to load and preprocess the image.\n",
    "\n",
    "    1. Open the image.\n",
    "    2. Scale/crop it and convert it to a float tensor.\n",
    "    3. Convert it to a variable (all inputs to PyTorch models must be variables).\n",
    "    4. Add another dimension to the start of the Tensor (b/c VGG expects a batch).\n",
    "    5. Move the variable onto the GPU.\n",
    "    \"\"\"\n",
    "    try:\n",
    "        x1, sr1 = librosa.load(audio_filename, sr=None, mono=True, duration=9.98, offset=0)\n",
    "    except:\n",
    "        return\n",
    "    try:\n",
    "            x2, sr2 = librosa.load(audio_filename, sr=None, mono=True, duration=9.98, offset=10)\n",
    "    except:\n",
    "        return\n",
    "    try:\n",
    "        x3, sr3 = librosa.load(audio_filename, sr=None, mono=True, duration=9.98, offset=20)\n",
    "    except:\n",
    "        return\n",
    "    #Convert audio to a complex valued spectrogram\n",
    "    spectro1 = librosa.core.stft(x1)\n",
    "    spectro2 = librosa.core.stft(x2)\n",
    "    spectro3 = librosa.core.stft(x3)\n",
    "    if spectro1 is not None and spectro2 is not None and spectro3 is not None:\n",
    "        #Separate out amplitude and phase from complex valued spectrogram\n",
    "        mag1, phase1 = librosa.core.magphase(spectro1)\n",
    "        mag2, phase2 = librosa.core.magphase(spectro2)\n",
    "        mag3, phase3 = librosa.core.magphase(spectro3)\n",
    "\n",
    "        #Get the decibal version from power spectrogram\n",
    "        #This is the value that should be stored for training\n",
    "        powerToDb1 = librosa.power_to_db(mag1, ref=np.max)\n",
    "        powerToDb2 = librosa.power_to_db(mag2, ref=np.max)\n",
    "        powerToDb3 = librosa.power_to_db(mag3, ref=np.max)\n",
    "        return powerToDb1, powerToDb2, powerToDb3\n",
    "    else:\n",
    "        return None, None, None"
   ]
  },
  {
   "cell_type": "code",
   "execution_count": 21,
   "metadata": {},
   "outputs": [
    {
     "name": "stdout",
     "output_type": "stream",
     "text": [
      "[[-32.10647583 -35.17770386 -35.13761902 ..., -20.74552917 -22.76325798\n",
      "  -12.42108345]\n",
      " [-32.5177536  -27.79302597 -27.45069695 ..., -20.14678001 -17.63718796\n",
      "  -12.72651672]\n",
      " [-33.8721199  -27.12277222 -21.54623795 ..., -21.62534142 -17.47250557\n",
      "  -14.71877098]\n",
      " ..., \n",
      " [-67.71305084 -61.27999115 -62.68729401 ..., -61.99525452 -55.33665466\n",
      "  -47.77518463]\n",
      " [-73.31834412 -60.96147919 -56.9090271  ..., -60.05062866 -55.87080383\n",
      "  -48.63137817]\n",
      " [-77.46194458 -60.91259003 -55.89610291 ..., -56.63808441 -59.34059143\n",
      "  -49.69758606]]\n",
      "[[-19.07538986 -20.0002594  -22.55150604 ..., -24.92151642 -21.60593987\n",
      "  -12.51545811]\n",
      " [-21.77766609 -17.39510918 -18.46725845 ..., -18.72729301 -18.92308807\n",
      "  -13.1489706 ]\n",
      " [-17.18309402 -16.38022804 -17.05885887 ..., -17.69587708 -18.12091064\n",
      "  -12.17409611]\n",
      " ..., \n",
      " [-44.79163742 -47.81441116 -62.04322433 ..., -60.63745117 -55.75390244\n",
      "  -48.10538864]\n",
      " [-44.60562134 -47.72201157 -60.77893066 ..., -58.64273834 -62.50084686\n",
      "  -48.45567322]\n",
      " [-44.44965363 -47.20101166 -56.21645355 ..., -57.87086868 -55.21752548\n",
      "  -48.28014374]]\n",
      "[[ -7.12201309 -10.44532585 -19.38780975 ..., -27.43418694 -19.67097473\n",
      "  -14.02607155]\n",
      " [ -6.67242527  -9.67760849 -15.22329903 ..., -19.76520348 -19.15446281\n",
      "  -14.41233253]\n",
      " [ -6.34007835  -8.93709564 -16.57353973 ..., -17.47594643 -17.91437531\n",
      "  -14.34294796]\n",
      " ..., \n",
      " [-38.71808243 -41.8345871  -55.18868256 ..., -61.67248535 -51.38009644\n",
      "  -45.85237122]\n",
      " [-38.68714905 -41.59947586 -54.79637146 ..., -54.71814728 -50.24468613\n",
      "  -45.99822235]\n",
      " [-38.66608429 -41.75688934 -54.67786407 ..., -52.60303116 -55.46552277\n",
      "  -46.41210938]]\n"
     ]
    }
   ],
   "source": [
    "spectro_1, spectro_2, spectro_3 = convert_file_to_spectro(song_list[0])\n",
    "#spectro_2 = convert_file_to_spectro(song_list[1])\n",
    "print spectro_1\n",
    "print spectro_2\n",
    "print spectro_3"
   ]
  },
  {
   "cell_type": "code",
   "execution_count": 30,
   "metadata": {
    "collapsed": true
   },
   "outputs": [],
   "source": [
    "def save_spectros(song_list, genre_name, save_dir):\n",
    "    num_songs = len(song_list)\n",
    "    num_val_songs = num_songs / 5\n",
    "    for i, song in enumerate(song_list):\n",
    "        if i < num_val_songs:\n",
    "            save_ddir = os.path.join(save_dir, 'val')\n",
    "        else:\n",
    "            save_ddir = os.path.join(save_dir, 'train')\n",
    "        if not os.path.exists(save_ddir):\n",
    "            os.makedirs(save_ddir)\n",
    "        save_subdir = os.path.join(save_ddir, genre_name)\n",
    "        if not os.path.exists(save_subdir):\n",
    "            os.makedirs(save_subdir)\n",
    "        if convert_file_to_spectro(song) is not None:\n",
    "            spectro1, spectro2, spectro3 = convert_file_to_spectro(song)\n",
    "        else:\n",
    "            return\n",
    "        if spectro1 is not None and spectro2 is not None and spectro3 is not None:\n",
    "            scaled_spectro1 = scaleSpectro(spectro1, (512, 512))\n",
    "            scaled_spectro2 = scaleSpectro(spectro2, (512, 512))\n",
    "            scaled_spectro3 = scaleSpectro(spectro3, (512, 512))\n",
    "            save_name1 = os.path.join(save_subdir, str(3*i+1) + '.jpg')\n",
    "            scipy.misc.imsave(save_name1, scaled_spectro1)\n",
    "            save_name2 = os.path.join(save_subdir, str(3*i+2) + '.jpg')\n",
    "            scipy.misc.imsave(save_name2, scaled_spectro2)\n",
    "            save_name3 = os.path.join(save_subdir, str(3*i+3) + '.jpg')\n",
    "            scipy.misc.imsave(save_name3, scaled_spectro3)"
   ]
  },
  {
   "cell_type": "code",
   "execution_count": 29,
   "metadata": {},
   "outputs": [],
   "source": [
    "save_dir = '/ubc/cs/research/tracking-raid/candice/project/dataset/mag_512'\n",
    "save_spectros(rock_song_list, 'rock', save_dir)\n",
    "save_spectros(hiphop_song_list, 'hiphop', save_dir)\n",
    "save_spectros(classical_song_list, 'classical', save_dir)\n",
    "save_spectros(elec_song_list, 'elec', save_dir)"
   ]
  },
  {
   "cell_type": "code",
   "execution_count": null,
   "metadata": {
    "collapsed": true
   },
   "outputs": [],
   "source": []
  }
 ],
 "metadata": {
  "kernelspec": {
   "display_name": "Python 2",
   "language": "python",
   "name": "python2"
  },
  "language_info": {
   "codemirror_mode": {
    "name": "ipython",
    "version": 2
   },
   "file_extension": ".py",
   "mimetype": "text/x-python",
   "name": "python",
   "nbconvert_exporter": "python",
   "pygments_lexer": "ipython2",
   "version": "2.7.14"
  }
 },
 "nbformat": 4,
 "nbformat_minor": 2
}
